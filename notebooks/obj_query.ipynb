{
 "cells": [
  {
   "cell_type": "code",
   "execution_count": null,
   "metadata": {},
   "outputs": [],
   "source": [
    "import os\n",
    "import sys\n",
    "import json\n",
    "module_path = os.path.abspath(os.path.join('..'))\n",
    "if module_path not in sys.path:\n",
    "    sys.path.append(module_path)"
   ]
  },
  {
   "cell_type": "code",
   "execution_count": null,
   "metadata": {},
   "outputs": [],
   "source": [
    "if os.path.exists(\"../settings.json\"):\n",
    "    with open(\"../settings.json\", \"r\") as f:\n",
    "        settings = json.load(f)\n",
    "        os.environ[\"OPENAI_API_KEY\"] = settings[\"OPENAI_API_KEY\"]\n",
    "        os.environ[\"OPENAI_API_BASE\"] = settings[\"OPENAI_API_BASE\"]\n",
    "else:\n",
    "    raise Exception(\"settings.json not found!\")"
   ]
  },
  {
   "cell_type": "code",
   "execution_count": null,
   "metadata": {},
   "outputs": [],
   "source": [
    "from PIL import Image\n",
    "from IPython.core.display import HTML\n",
    "from functools import partial\n",
    "\n",
    "from engine.utils import ProgramGenerator, ProgramInterpreter\n",
    "from prompts.gqa import create_prompt"
   ]
  },
  {
   "cell_type": "code",
   "execution_count": null,
   "metadata": {},
   "outputs": [],
   "source": [
    "interpreter = ProgramInterpreter(dataset='gqa')"
   ]
  },
  {
   "cell_type": "code",
   "execution_count": null,
   "metadata": {},
   "outputs": [],
   "source": [
    "prompter = partial(create_prompt,method='all')\n",
    "generator = ProgramGenerator(prompter=prompter)"
   ]
  },
  {
   "cell_type": "code",
   "execution_count": null,
   "metadata": {},
   "outputs": [],
   "source": [
    "image = Image.open('../assets/camel1.png')\n",
    "image.thumbnail((640,640),Image.Resampling.LANCZOS)\n",
    "init_state = dict(\n",
    "    IMAGE=image.convert('RGB')\n",
    ")\n",
    "image"
   ]
  },
  {
   "cell_type": "code",
   "execution_count": null,
   "metadata": {},
   "outputs": [],
   "source": [
    "question = \"How many people or animals are in the image?\"\n",
    "# question = \"Are there more animals than people in the image?\"\n",
    "# question = \"Localize the woman and tell me the color of her dress.\"\n",
    "# question = \"Find and tell me the name of the animal in the image.\"\n",
    "# question = \"How many women are to the right of the camel?\"\n",
    "# question = \"How many women are to the left of the camel?\"\n",
    "# question = \"Is the lamp to the left of the woman lit?\"\n",
    "# question = \"Is there a sun in the sky?\"\n",
    "prog,_ = generator.generate(dict(question=question))\n",
    "print(prog)"
   ]
  },
  {
   "cell_type": "code",
   "execution_count": null,
   "metadata": {},
   "outputs": [],
   "source": [
    "result, prog_state, html_str = interpreter.execute(prog,init_state,inspect=True)"
   ]
  },
  {
   "cell_type": "code",
   "execution_count": null,
   "metadata": {},
   "outputs": [],
   "source": [
    "result"
   ]
  },
  {
   "cell_type": "code",
   "execution_count": null,
   "metadata": {},
   "outputs": [],
   "source": [
    "HTML(html_str)"
   ]
  }
 ],
 "metadata": {
  "kernelspec": {
   "display_name": "visprog",
   "language": "python",
   "name": "python3"
  },
  "language_info": {
   "name": "python",
   "version": "3.10.12"
  },
  "orig_nbformat": 4
 },
 "nbformat": 4,
 "nbformat_minor": 2
}
