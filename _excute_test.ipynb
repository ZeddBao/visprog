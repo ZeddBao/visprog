{
 "cells": [
  {
   "cell_type": "code",
   "execution_count": 1,
   "metadata": {},
   "outputs": [
    {
     "name": "stderr",
     "output_type": "stream",
     "text": [
      "/home/cooly/anaconda3/envs/visprog/lib/python3.10/site-packages/tqdm/auto.py:21: TqdmWarning: IProgress not found. Please update jupyter and ipywidgets. See https://ipywidgets.readthedocs.io/en/stable/user_install.html\n",
      "  from .autonotebook import tqdm as notebook_tqdm\n"
     ]
    },
    {
     "name": "stdout",
     "output_type": "stream",
     "text": [
      "Registering LOC step\n",
      "Registering SEG step\n"
     ]
    },
    {
     "name": "stderr",
     "output_type": "stream",
     "text": [
      "/home/cooly/anaconda3/envs/visprog/lib/python3.10/site-packages/transformers/models/maskformer/feature_extraction_maskformer.py:28: FutureWarning: The class MaskFormerFeatureExtractor is deprecated and will be removed in version 5 of Transformers. Please use MaskFormerImageProcessor instead.\n",
      "  warnings.warn(\n",
      "/home/cooly/anaconda3/envs/visprog/lib/python3.10/site-packages/transformers/models/maskformer/image_processing_maskformer.py:403: FutureWarning: The `size_divisibility` argument is deprecated and will be removed in v4.27. Please use `size_divisor` instead.\n",
      "  warnings.warn(\n",
      "/home/cooly/anaconda3/envs/visprog/lib/python3.10/site-packages/transformers/models/maskformer/image_processing_maskformer.py:410: FutureWarning: The `max_size` argument is deprecated and will be removed in v4.27. Please use size['longest_edge'] instead.\n",
      "  warnings.warn(\n"
     ]
    },
    {
     "name": "stdout",
     "output_type": "stream",
     "text": [
      "Registering CROP step\n",
      "Registering CROP_RIGHTOF step\n",
      "Registering CROP_LEFTOF step\n",
      "Registering CROP_FRONTOF step\n",
      "Registering CROP_INFRONTOF step\n",
      "Registering CROP_INFRONT step\n",
      "Registering CROP_BEHIND step\n",
      "Registering CROP_AHEAD step\n",
      "Registering CROP_BELOW step\n",
      "Registering CROP_ABOVE step\n",
      "Registering SORT step\n",
      "Registering INDEX step\n",
      "Registering SELECT step\n"
     ]
    },
    {
     "name": "stderr",
     "output_type": "stream",
     "text": [
      "`text_config_dict` is provided which will be used to initialize `CLIPTextConfig`. The value `text_config[\"id2label\"]` will be overriden.\n"
     ]
    },
    {
     "name": "stdout",
     "output_type": "stream",
     "text": [
      "Registering RESULT step\n"
     ]
    }
   ],
   "source": [
    "from PIL import Image\n",
    "from IPython.core.display import HTML\n",
    "from engine.utils import ProgramGenerator, ProgramInterpreter\n",
    "interpreter = ProgramInterpreter(dataset='objQuery')\n",
    "\n",
    "image = Image.open('./assets/cups.webp')\n",
    "image.thumbnail((640,640),Image.Resampling.LANCZOS)\n",
    "init_state = dict(\n",
    "    IMAGE=image.convert('RGB')\n",
    ")"
   ]
  },
  {
   "cell_type": "code",
   "execution_count": 2,
   "metadata": {},
   "outputs": [
    {
     "name": "stdout",
     "output_type": "stream",
     "text": [
      "SEG\n"
     ]
    },
    {
     "name": "stderr",
     "output_type": "stream",
     "text": [
      "`label_ids_to_fuse` unset. No instance will be fused.\n"
     ]
    },
    {
     "name": "stdout",
     "output_type": "stream",
     "text": [
      "dict_keys(['segmentation', 'segments_info'])\n",
      "SELECT\n",
      "SORT\n",
      "INDEX\n"
     ]
    }
   ],
   "source": [
    "prog = '''OBJ0=SEG(image=IMAGE)\n",
    "OBJ1=SELECT(image=IMAGE,object=OBJ0,query='wine glass')\n",
    "OBJ2=SORT(object=OBJ1,key=\"lambda x: x['box'][0]\",reverse=True)\n",
    "OBJ3=INDEX(item=OBJ2,index=0)'''\n",
    "\n",
    "result, prog_state, html_str = interpreter.execute(prog,init_state,inspect=True)"
   ]
  },
  {
   "cell_type": "code",
   "execution_count": 3,
   "metadata": {},
   "outputs": [
    {
     "data": {
      "text/plain": [
       "[{'mask': array([[0., 0., 0., ..., 0., 0., 0.],\n",
       "         [0., 0., 0., ..., 0., 0., 0.],\n",
       "         [0., 0., 0., ..., 0., 0., 0.],\n",
       "         ...,\n",
       "         [0., 0., 0., ..., 0., 0., 0.],\n",
       "         [0., 0., 0., ..., 0., 0., 0.],\n",
       "         [0., 0., 0., ..., 0., 0., 0.]], dtype=float32),\n",
       "  'category': 'wine glass',\n",
       "  'box': [474, 435, 597, 636],\n",
       "  'inst_id': 9}]"
      ]
     },
     "execution_count": 3,
     "metadata": {},
     "output_type": "execute_result"
    }
   ],
   "source": [
    "result"
   ]
  },
  {
   "cell_type": "code",
   "execution_count": 4,
   "metadata": {},
   "outputs": [
    {
     "data": {
      "text/plain": [
       "{'IMAGE': <PIL.Image.Image image mode=RGB size=640x640>,\n",
       " 'OBJ0': [{'mask': array([[0., 0., 0., ..., 0., 0., 0.],\n",
       "          [0., 0., 0., ..., 0., 0., 0.],\n",
       "          [0., 0., 0., ..., 0., 0., 0.],\n",
       "          ...,\n",
       "          [0., 0., 0., ..., 0., 0., 0.],\n",
       "          [0., 0., 0., ..., 0., 0., 0.],\n",
       "          [0., 0., 0., ..., 0., 0., 0.]], dtype=float32),\n",
       "   'category': 'cup',\n",
       "   'box': [480, 234, 613, 412],\n",
       "   'inst_id': 1},\n",
       "  {'mask': array([[0., 0., 0., ..., 0., 0., 0.],\n",
       "          [0., 0., 0., ..., 0., 0., 0.],\n",
       "          [0., 0., 0., ..., 0., 0., 0.],\n",
       "          ...,\n",
       "          [0., 0., 0., ..., 0., 0., 0.],\n",
       "          [0., 0., 0., ..., 0., 0., 0.],\n",
       "          [0., 0., 0., ..., 0., 0., 0.]], dtype=float32),\n",
       "   'category': 'cup',\n",
       "   'box': [227, 16, 354, 201],\n",
       "   'inst_id': 2},\n",
       "  {'mask': array([[0., 0., 0., ..., 0., 0., 0.],\n",
       "          [0., 0., 0., ..., 0., 0., 0.],\n",
       "          [0., 0., 0., ..., 0., 0., 0.],\n",
       "          ...,\n",
       "          [0., 0., 0., ..., 0., 0., 0.],\n",
       "          [0., 0., 0., ..., 0., 0., 0.],\n",
       "          [0., 0., 0., ..., 0., 0., 0.]], dtype=float32),\n",
       "   'category': 'cup',\n",
       "   'box': [246, 227, 380, 409],\n",
       "   'inst_id': 3},\n",
       "  {'mask': array([[0., 0., 0., ..., 0., 0., 0.],\n",
       "          [0., 0., 0., ..., 0., 0., 0.],\n",
       "          [0., 0., 0., ..., 0., 0., 0.],\n",
       "          ...,\n",
       "          [0., 0., 0., ..., 0., 0., 0.],\n",
       "          [0., 0., 0., ..., 0., 0., 0.],\n",
       "          [0., 0., 0., ..., 0., 0., 0.]], dtype=float32),\n",
       "   'category': 'cup',\n",
       "   'box': [467, 29, 629, 181],\n",
       "   'inst_id': 4},\n",
       "  {'mask': array([[0., 0., 0., ..., 0., 0., 0.],\n",
       "          [0., 0., 0., ..., 0., 0., 0.],\n",
       "          [0., 0., 0., ..., 0., 0., 0.],\n",
       "          ...,\n",
       "          [0., 0., 0., ..., 0., 0., 0.],\n",
       "          [0., 0., 0., ..., 0., 0., 0.],\n",
       "          [0., 0., 0., ..., 0., 0., 0.]], dtype=float32),\n",
       "   'category': 'cup',\n",
       "   'box': [221, 474, 412, 629],\n",
       "   'inst_id': 5},\n",
       "  {'mask': array([[0., 0., 0., ..., 0., 0., 0.],\n",
       "          [0., 0., 0., ..., 0., 0., 0.],\n",
       "          [0., 0., 0., ..., 0., 0., 0.],\n",
       "          ...,\n",
       "          [0., 0., 0., ..., 0., 0., 0.],\n",
       "          [0., 0., 0., ..., 0., 0., 0.],\n",
       "          [0., 0., 0., ..., 0., 0., 0.]], dtype=float32),\n",
       "   'category': 'cup',\n",
       "   'box': [29, 45, 185, 178],\n",
       "   'inst_id': 6},\n",
       "  {'mask': array([[0., 0., 0., ..., 0., 0., 0.],\n",
       "          [0., 0., 0., ..., 0., 0., 0.],\n",
       "          [0., 0., 0., ..., 0., 0., 0.],\n",
       "          ...,\n",
       "          [0., 0., 0., ..., 0., 0., 0.],\n",
       "          [0., 0., 0., ..., 0., 0., 0.],\n",
       "          [0., 0., 0., ..., 0., 0., 0.]], dtype=float32),\n",
       "   'category': 'cup',\n",
       "   'box': [0, 477, 197, 620],\n",
       "   'inst_id': 7},\n",
       "  {'mask': array([[0., 0., 0., ..., 0., 0., 0.],\n",
       "          [0., 0., 0., ..., 0., 0., 0.],\n",
       "          [0., 0., 0., ..., 0., 0., 0.],\n",
       "          ...,\n",
       "          [0., 0., 0., ..., 0., 0., 0.],\n",
       "          [0., 0., 0., ..., 0., 0., 0.],\n",
       "          [0., 0., 0., ..., 0., 0., 0.]], dtype=float32),\n",
       "   'category': 'shelf',\n",
       "   'box': [0, 64, 639, 601],\n",
       "   'inst_id': 8},\n",
       "  {'mask': array([[0., 0., 0., ..., 0., 0., 0.],\n",
       "          [0., 0., 0., ..., 0., 0., 0.],\n",
       "          [0., 0., 0., ..., 0., 0., 0.],\n",
       "          ...,\n",
       "          [0., 0., 0., ..., 0., 0., 0.],\n",
       "          [0., 0., 0., ..., 0., 0., 0.],\n",
       "          [0., 0., 0., ..., 0., 0., 0.]], dtype=float32),\n",
       "   'category': 'wine glass',\n",
       "   'box': [474, 435, 597, 636],\n",
       "   'inst_id': 9},\n",
       "  {'mask': array([[0., 0., 0., ..., 0., 0., 0.],\n",
       "          [0., 0., 0., ..., 0., 0., 0.],\n",
       "          [0., 0., 0., ..., 0., 0., 0.],\n",
       "          ...,\n",
       "          [0., 0., 0., ..., 0., 0., 0.],\n",
       "          [0., 0., 0., ..., 0., 0., 0.],\n",
       "          [0., 0., 0., ..., 0., 0., 0.]], dtype=float32),\n",
       "   'category': 'cup',\n",
       "   'box': [6, 230, 191, 405],\n",
       "   'inst_id': 10},\n",
       "  {'mask': array([[0., 0., 0., ..., 0., 0., 0.],\n",
       "          [0., 0., 0., ..., 0., 0., 0.],\n",
       "          [0., 0., 0., ..., 0., 0., 0.],\n",
       "          ...,\n",
       "          [1., 1., 1., ..., 1., 1., 1.],\n",
       "          [1., 1., 1., ..., 1., 1., 1.],\n",
       "          [1., 1., 1., ..., 1., 1., 1.]], dtype=float32),\n",
       "   'category': 'table-merged',\n",
       "   'box': [0, 173, 639, 639],\n",
       "   'inst_id': 11},\n",
       "  {'mask': array([[1., 1., 1., ..., 1., 1., 1.],\n",
       "          [1., 1., 1., ..., 1., 1., 1.],\n",
       "          [1., 1., 1., ..., 1., 1., 1.],\n",
       "          ...,\n",
       "          [0., 0., 0., ..., 0., 0., 0.],\n",
       "          [0., 0., 0., ..., 0., 0., 0.],\n",
       "          [0., 0., 0., ..., 0., 0., 0.]], dtype=float32),\n",
       "   'category': 'wall-other-merged',\n",
       "   'box': [0, 0, 639, 601],\n",
       "   'inst_id': 12}],\n",
       " 'OBJ1': [{'mask': array([[0., 0., 0., ..., 0., 0., 0.],\n",
       "          [0., 0., 0., ..., 0., 0., 0.],\n",
       "          [0., 0., 0., ..., 0., 0., 0.],\n",
       "          ...,\n",
       "          [0., 0., 0., ..., 0., 0., 0.],\n",
       "          [0., 0., 0., ..., 0., 0., 0.],\n",
       "          [0., 0., 0., ..., 0., 0., 0.]], dtype=float32),\n",
       "   'category': 'wine glass',\n",
       "   'box': [474, 435, 597, 636],\n",
       "   'inst_id': 9}],\n",
       " 'OBJ2': [{'mask': array([[0., 0., 0., ..., 0., 0., 0.],\n",
       "          [0., 0., 0., ..., 0., 0., 0.],\n",
       "          [0., 0., 0., ..., 0., 0., 0.],\n",
       "          ...,\n",
       "          [0., 0., 0., ..., 0., 0., 0.],\n",
       "          [0., 0., 0., ..., 0., 0., 0.],\n",
       "          [0., 0., 0., ..., 0., 0., 0.]], dtype=float32),\n",
       "   'category': 'wine glass',\n",
       "   'box': [474, 435, 597, 636],\n",
       "   'inst_id': 9}],\n",
       " 'OBJ3': [{'mask': array([[0., 0., 0., ..., 0., 0., 0.],\n",
       "          [0., 0., 0., ..., 0., 0., 0.],\n",
       "          [0., 0., 0., ..., 0., 0., 0.],\n",
       "          ...,\n",
       "          [0., 0., 0., ..., 0., 0., 0.],\n",
       "          [0., 0., 0., ..., 0., 0., 0.],\n",
       "          [0., 0., 0., ..., 0., 0., 0.]], dtype=float32),\n",
       "   'category': 'wine glass',\n",
       "   'box': [474, 435, 597, 636],\n",
       "   'inst_id': 9}]}"
      ]
     },
     "execution_count": 4,
     "metadata": {},
     "output_type": "execute_result"
    }
   ],
   "source": [
    "prog_state"
   ]
  },
  {
   "cell_type": "code",
   "execution_count": 5,
   "metadata": {},
   "outputs": [
    {
     "data": {
      "text/html": [
       "<hr><div><b><span style='color: blue;'>OBJ0</span></b>=<b><span style='color: red;'>SEG</span></b>(<b><span style='color: darkorange;'>image</span></b>=<b><span style='color: blue;'>IMAGE</span></b>)=<img style=\"vertical-align:middle\" src=\"data:image/jpeg;base64,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\"></div><hr><div><b><span style='color: blue;'>OBJ1</span></b>=<b><span style='color: red;'>SELECT</span></b>(<b><span style='color: darkorange;'>image</span></b>=<b><span style='color: blue;'>IMAGE</span></b>,<b><span style='color: darkorange;'>object</span></b>=<b><span style='color: blue;'>OBJ0</span></b>,<b><span style='color: darkorange;'>query</span></b>=['wine glass'],<b><span style='color: darkorange;'>category</span></b>=None)=<img style=\"vertical-align:middle\" src=\"data:image/jpeg;base64,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\"></div><hr><div><b><span style='color: blue;'>OBJ2</span></b>=<b><span style='color: red;'>SORT</span></b>(<b><span style='color: darkorange;'>obj</span></b>=OBJ1, <b><span style='color: darkorange;'>key</span></b>=lambda x: x['box'][0], <b><span style='color: darkorange;'>reverse</span></b>=True)</div><hr><div><b><span style='color: blue;'>OBJ3</span></b>=<b><span style='color: red;'>INDEX</span></b>(<b><span style='color: darkorange;'>item</span></b>=<b><span style='color: blue;'>OBJ2</span></b>, <b><span style='color: darkorange;'>index</span></b>=0)</div><hr>"
      ],
      "text/plain": [
       "<IPython.core.display.HTML object>"
      ]
     },
     "execution_count": 5,
     "metadata": {},
     "output_type": "execute_result"
    }
   ],
   "source": [
    "HTML(html_str)"
   ]
  }
 ],
 "metadata": {
  "kernelspec": {
   "display_name": "visprog",
   "language": "python",
   "name": "python3"
  },
  "language_info": {
   "codemirror_mode": {
    "name": "ipython",
    "version": 3
   },
   "file_extension": ".py",
   "mimetype": "text/x-python",
   "name": "python",
   "nbconvert_exporter": "python",
   "pygments_lexer": "ipython3",
   "version": "3.10.12"
  },
  "orig_nbformat": 4
 },
 "nbformat": 4,
 "nbformat_minor": 2
}
